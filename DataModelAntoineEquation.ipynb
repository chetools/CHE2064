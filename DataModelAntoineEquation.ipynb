{
  "nbformat": 4,
  "nbformat_minor": 0,
  "metadata": {
    "colab": {
      "name": "DataModelAntoineEquation.ipynb",
      "provenance": [],
      "collapsed_sections": [],
      "include_colab_link": true
    },
    "kernelspec": {
      "name": "python3",
      "language": "python",
      "display_name": "Python 3"
    }
  },
  "cells": [
    {
      "cell_type": "markdown",
      "metadata": {
        "id": "view-in-github",
        "colab_type": "text"
      },
      "source": [
        "<a href=\"https://colab.research.google.com/github/profteachkids/CHE2064/blob/master/DataModelAntoineEquation.ipynb\" target=\"_parent\"><img src=\"https://colab.research.google.com/assets/colab-badge.svg\" alt=\"Open In Colab\"/></a>"
      ]
    },
    {
      "cell_type": "code",
      "metadata": {
        "colab": {
          "base_uri": "https://localhost:8080/"
        },
        "id": "RwsRM74gL4qe",
        "outputId": "13ff44d3-76c5-4a0b-f8d2-87ecc0ca63c9"
      },
      "source": [
        "!wget https://raw.githubusercontent.com/profteachkids/CHE2064_Fall2021/main/WaterVaporPressure.csv"
      ],
      "execution_count": 13,
      "outputs": [
        {
          "output_type": "stream",
          "text": [
            "--2021-08-23 22:44:27--  https://raw.githubusercontent.com/profteachkids/CHE2064_Fall2021/main/WaterVaporPressure.csv\n",
            "Resolving raw.githubusercontent.com (raw.githubusercontent.com)... 185.199.109.133, 185.199.111.133, 185.199.110.133, ...\n",
            "Connecting to raw.githubusercontent.com (raw.githubusercontent.com)|185.199.109.133|:443... connected.\n",
            "HTTP request sent, awaiting response... 200 OK\n",
            "Length: 1300 (1.3K) [text/plain]\n",
            "Saving to: ‘WaterVaporPressure.csv’\n",
            "\n",
            "\rWaterVaporPressure.   0%[                    ]       0  --.-KB/s               \rWaterVaporPressure. 100%[===================>]   1.27K  --.-KB/s    in 0s      \n",
            "\n",
            "2021-08-23 22:44:27 (108 MB/s) - ‘WaterVaporPressure.csv’ saved [1300/1300]\n",
            "\n"
          ],
          "name": "stdout"
        }
      ]
    },
    {
      "cell_type": "code",
      "metadata": {
        "id": "AJ-hO6KzfB24"
      },
      "source": [
        "from lxml import html\n",
        "import requests\n",
        "import jax\n",
        "import jax.numpy as jnp\n",
        "import numpy as np\n",
        "from scipy.optimize import minimize\n",
        "from plotly.subplots import make_subplots\n",
        "import plotly.io as pio\n",
        "from collections import deque\n",
        "pio.templates.default='plotly_dark'\n",
        "\n",
        "#JAX default is 32 bit - enable 64 bit - double precision\n",
        "from jax.config import config\n",
        "config.update(\"jax_enable_x64\", True)"
      ],
      "execution_count": 14,
      "outputs": []
    },
    {
      "cell_type": "code",
      "metadata": {
        "id": "HrzDhppAL4Gt"
      },
      "source": [
        "data=np.loadtxt(\"WaterVaporPressure.csv\", delimiter=\",\")"
      ],
      "execution_count": 16,
      "outputs": []
    },
    {
      "cell_type": "code",
      "metadata": {
        "id": "6mDTNZURj8fO"
      },
      "source": [
        "T=data[:,0]\n",
        "log_Pv = np.log10(data[:,1])"
      ],
      "execution_count": 21,
      "outputs": []
    },
    {
      "cell_type": "code",
      "metadata": {
        "id": "yDykYoqJi8EH",
        "colab": {
          "base_uri": "https://localhost:8080/",
          "height": 537
        },
        "outputId": "86ae3771-2cfb-460b-b02a-8b8ebf95d49d"
      },
      "source": [
        "fig = make_subplots(rows=1,cols=1)\n",
        "fig.add_scatter(x=T, y=log_Pv, mode='markers', marker_size=8, marker_color='rgba(0,0,0,0)',\n",
        "                marker_line_color='rgb(0,0,255)', marker_line_width=1, name='Data')\n",
        "fig.update_layout(width=800, height=500)\n",
        "fig.update_layout(xaxis_title='T (K)', yaxis_title='$Log_{10} P\\ (Pa)$a')\n",
        "fig.show()"
      ],
      "execution_count": 22,
      "outputs": [
        {
          "output_type": "display_data",
          "data": {
            "text/html": [
              "<html>\n",
              "<head><meta charset=\"utf-8\" /></head>\n",
              "<body>\n",
              "    <div>\n",
              "            <script src=\"https://cdnjs.cloudflare.com/ajax/libs/mathjax/2.7.5/MathJax.js?config=TeX-AMS-MML_SVG\"></script><script type=\"text/javascript\">if (window.MathJax) {MathJax.Hub.Config({SVG: {font: \"STIX-Web\"}});}</script>\n",
              "                <script type=\"text/javascript\">window.PlotlyConfig = {MathJaxConfig: 'local'};</script>\n",
              "        <script src=\"https://cdn.plot.ly/plotly-latest.min.js\"></script>    \n",
              "            <div id=\"0dc87524-d1e2-45ae-9604-cddbfe5b3ad1\" class=\"plotly-graph-div\" style=\"height:500px; width:800px;\"></div>\n",
              "            <script type=\"text/javascript\">\n",
              "                \n",
              "                    window.PLOTLYENV=window.PLOTLYENV || {};\n",
              "                    \n",
              "                if (document.getElementById(\"0dc87524-d1e2-45ae-9604-cddbfe5b3ad1\")) {\n",
              "                    Plotly.newPlot(\n",
              "                        '0dc87524-d1e2-45ae-9604-cddbfe5b3ad1',\n",
              "                        [{\"marker\": {\"color\": \"rgba(0,0,0,0)\", \"line\": {\"color\": \"rgb(0,0,255)\", \"width\": 1}, \"size\": 8}, \"mode\": \"markers\", \"name\": \"Data\", \"type\": \"scatter\", \"x\": [293.15, 303.15, 313.15, 323.15, 333.15, 343.15, 412.75, 432.85, 451.25, 463.15, 473.35, 482.55, 492.65, 504.15, 507.77, 521.28, 535.18, 541.49, 552.6, 557.97, 561.69, 571.31, 645.95, 646.04, 646.07, 647.09], \"y\": [3.380211241711606, 3.63002085111341, 3.8652816849956104, 4.091033516054471, 4.299550878499019, 4.494488538273192, 5.552668216112194, 5.787460474518415, 5.982271233039568, 6.098643725817057, 6.193681029541281, 6.275311354541811, 6.361350024352267, 6.45484486000851, 6.483301952358167, 6.585911710319434, 6.6858312746260635, 6.729488769179562, 6.803866634284985, 6.838786144946595, 6.862608363964942, 6.922777341928798, 7.335939069031729, 7.338336946561072, 7.338536173355659, 7.32911300268182]}],\n",
              "                        {\"height\": 500, \"template\": {\"data\": {\"bar\": [{\"error_x\": {\"color\": \"#f2f5fa\"}, \"error_y\": {\"color\": \"#f2f5fa\"}, \"marker\": {\"line\": {\"color\": \"rgb(17,17,17)\", \"width\": 0.5}}, \"type\": \"bar\"}], \"barpolar\": [{\"marker\": {\"line\": {\"color\": \"rgb(17,17,17)\", \"width\": 0.5}}, \"type\": \"barpolar\"}], \"carpet\": [{\"aaxis\": {\"endlinecolor\": \"#A2B1C6\", \"gridcolor\": \"#506784\", \"linecolor\": \"#506784\", \"minorgridcolor\": \"#506784\", \"startlinecolor\": \"#A2B1C6\"}, \"baxis\": {\"endlinecolor\": \"#A2B1C6\", \"gridcolor\": \"#506784\", \"linecolor\": \"#506784\", \"minorgridcolor\": \"#506784\", \"startlinecolor\": \"#A2B1C6\"}, \"type\": \"carpet\"}], \"choropleth\": [{\"colorbar\": {\"outlinewidth\": 0, \"ticks\": \"\"}, \"type\": \"choropleth\"}], \"contour\": [{\"colorbar\": {\"outlinewidth\": 0, \"ticks\": \"\"}, \"colorscale\": [[0.0, \"#0d0887\"], [0.1111111111111111, \"#46039f\"], [0.2222222222222222, \"#7201a8\"], [0.3333333333333333, \"#9c179e\"], [0.4444444444444444, \"#bd3786\"], [0.5555555555555556, \"#d8576b\"], [0.6666666666666666, \"#ed7953\"], [0.7777777777777778, \"#fb9f3a\"], [0.8888888888888888, \"#fdca26\"], [1.0, \"#f0f921\"]], \"type\": \"contour\"}], \"contourcarpet\": [{\"colorbar\": {\"outlinewidth\": 0, \"ticks\": \"\"}, \"type\": \"contourcarpet\"}], \"heatmap\": [{\"colorbar\": {\"outlinewidth\": 0, \"ticks\": \"\"}, \"colorscale\": [[0.0, \"#0d0887\"], [0.1111111111111111, \"#46039f\"], [0.2222222222222222, \"#7201a8\"], [0.3333333333333333, \"#9c179e\"], [0.4444444444444444, \"#bd3786\"], [0.5555555555555556, \"#d8576b\"], [0.6666666666666666, \"#ed7953\"], [0.7777777777777778, \"#fb9f3a\"], [0.8888888888888888, \"#fdca26\"], [1.0, \"#f0f921\"]], \"type\": \"heatmap\"}], \"heatmapgl\": [{\"colorbar\": {\"outlinewidth\": 0, \"ticks\": \"\"}, \"colorscale\": [[0.0, \"#0d0887\"], [0.1111111111111111, \"#46039f\"], [0.2222222222222222, \"#7201a8\"], [0.3333333333333333, \"#9c179e\"], [0.4444444444444444, \"#bd3786\"], [0.5555555555555556, \"#d8576b\"], [0.6666666666666666, \"#ed7953\"], [0.7777777777777778, \"#fb9f3a\"], [0.8888888888888888, \"#fdca26\"], [1.0, \"#f0f921\"]], \"type\": \"heatmapgl\"}], \"histogram\": [{\"marker\": {\"colorbar\": {\"outlinewidth\": 0, \"ticks\": \"\"}}, \"type\": \"histogram\"}], \"histogram2d\": [{\"colorbar\": {\"outlinewidth\": 0, \"ticks\": \"\"}, \"colorscale\": [[0.0, \"#0d0887\"], [0.1111111111111111, \"#46039f\"], [0.2222222222222222, \"#7201a8\"], [0.3333333333333333, \"#9c179e\"], [0.4444444444444444, \"#bd3786\"], [0.5555555555555556, \"#d8576b\"], [0.6666666666666666, \"#ed7953\"], [0.7777777777777778, \"#fb9f3a\"], [0.8888888888888888, \"#fdca26\"], [1.0, \"#f0f921\"]], \"type\": \"histogram2d\"}], \"histogram2dcontour\": [{\"colorbar\": {\"outlinewidth\": 0, \"ticks\": \"\"}, \"colorscale\": [[0.0, \"#0d0887\"], [0.1111111111111111, \"#46039f\"], [0.2222222222222222, \"#7201a8\"], [0.3333333333333333, \"#9c179e\"], [0.4444444444444444, \"#bd3786\"], [0.5555555555555556, \"#d8576b\"], [0.6666666666666666, \"#ed7953\"], [0.7777777777777778, \"#fb9f3a\"], [0.8888888888888888, \"#fdca26\"], [1.0, \"#f0f921\"]], \"type\": \"histogram2dcontour\"}], \"mesh3d\": [{\"colorbar\": {\"outlinewidth\": 0, \"ticks\": \"\"}, \"type\": \"mesh3d\"}], \"parcoords\": [{\"line\": {\"colorbar\": {\"outlinewidth\": 0, \"ticks\": \"\"}}, \"type\": \"parcoords\"}], \"pie\": [{\"automargin\": true, \"type\": \"pie\"}], \"scatter\": [{\"marker\": {\"line\": {\"color\": \"#283442\"}}, \"type\": \"scatter\"}], \"scatter3d\": [{\"line\": {\"colorbar\": {\"outlinewidth\": 0, \"ticks\": \"\"}}, \"marker\": {\"colorbar\": {\"outlinewidth\": 0, \"ticks\": \"\"}}, \"type\": \"scatter3d\"}], \"scattercarpet\": [{\"marker\": {\"colorbar\": {\"outlinewidth\": 0, \"ticks\": \"\"}}, \"type\": \"scattercarpet\"}], \"scattergeo\": [{\"marker\": {\"colorbar\": {\"outlinewidth\": 0, \"ticks\": \"\"}}, \"type\": \"scattergeo\"}], \"scattergl\": [{\"marker\": {\"line\": {\"color\": \"#283442\"}}, \"type\": \"scattergl\"}], \"scattermapbox\": [{\"marker\": {\"colorbar\": {\"outlinewidth\": 0, \"ticks\": \"\"}}, \"type\": \"scattermapbox\"}], \"scatterpolar\": [{\"marker\": {\"colorbar\": {\"outlinewidth\": 0, \"ticks\": \"\"}}, \"type\": \"scatterpolar\"}], \"scatterpolargl\": [{\"marker\": {\"colorbar\": {\"outlinewidth\": 0, \"ticks\": \"\"}}, \"type\": \"scatterpolargl\"}], \"scatterternary\": [{\"marker\": {\"colorbar\": {\"outlinewidth\": 0, \"ticks\": \"\"}}, \"type\": \"scatterternary\"}], \"surface\": [{\"colorbar\": {\"outlinewidth\": 0, \"ticks\": \"\"}, \"colorscale\": [[0.0, \"#0d0887\"], [0.1111111111111111, \"#46039f\"], [0.2222222222222222, \"#7201a8\"], [0.3333333333333333, \"#9c179e\"], [0.4444444444444444, \"#bd3786\"], [0.5555555555555556, \"#d8576b\"], [0.6666666666666666, \"#ed7953\"], [0.7777777777777778, \"#fb9f3a\"], [0.8888888888888888, \"#fdca26\"], [1.0, \"#f0f921\"]], \"type\": \"surface\"}], \"table\": [{\"cells\": {\"fill\": {\"color\": \"#506784\"}, \"line\": {\"color\": \"rgb(17,17,17)\"}}, \"header\": {\"fill\": {\"color\": \"#2a3f5f\"}, \"line\": {\"color\": \"rgb(17,17,17)\"}}, \"type\": \"table\"}]}, \"layout\": {\"annotationdefaults\": {\"arrowcolor\": \"#f2f5fa\", \"arrowhead\": 0, \"arrowwidth\": 1}, \"coloraxis\": {\"colorbar\": {\"outlinewidth\": 0, \"ticks\": \"\"}}, \"colorscale\": {\"diverging\": [[0, \"#8e0152\"], [0.1, \"#c51b7d\"], [0.2, \"#de77ae\"], [0.3, \"#f1b6da\"], [0.4, \"#fde0ef\"], [0.5, \"#f7f7f7\"], [0.6, \"#e6f5d0\"], [0.7, \"#b8e186\"], [0.8, \"#7fbc41\"], [0.9, \"#4d9221\"], [1, \"#276419\"]], \"sequential\": [[0.0, \"#0d0887\"], [0.1111111111111111, \"#46039f\"], [0.2222222222222222, \"#7201a8\"], [0.3333333333333333, \"#9c179e\"], [0.4444444444444444, \"#bd3786\"], [0.5555555555555556, \"#d8576b\"], [0.6666666666666666, \"#ed7953\"], [0.7777777777777778, \"#fb9f3a\"], [0.8888888888888888, \"#fdca26\"], [1.0, \"#f0f921\"]], \"sequentialminus\": [[0.0, \"#0d0887\"], [0.1111111111111111, \"#46039f\"], [0.2222222222222222, \"#7201a8\"], [0.3333333333333333, \"#9c179e\"], [0.4444444444444444, \"#bd3786\"], [0.5555555555555556, \"#d8576b\"], [0.6666666666666666, \"#ed7953\"], [0.7777777777777778, \"#fb9f3a\"], [0.8888888888888888, \"#fdca26\"], [1.0, \"#f0f921\"]]}, \"colorway\": [\"#636efa\", \"#EF553B\", \"#00cc96\", \"#ab63fa\", \"#FFA15A\", \"#19d3f3\", \"#FF6692\", \"#B6E880\", \"#FF97FF\", \"#FECB52\"], \"font\": {\"color\": \"#f2f5fa\"}, \"geo\": {\"bgcolor\": \"rgb(17,17,17)\", \"lakecolor\": \"rgb(17,17,17)\", \"landcolor\": \"rgb(17,17,17)\", \"showlakes\": true, \"showland\": true, \"subunitcolor\": \"#506784\"}, \"hoverlabel\": {\"align\": \"left\"}, \"hovermode\": \"closest\", \"mapbox\": {\"style\": \"dark\"}, \"paper_bgcolor\": \"rgb(17,17,17)\", \"plot_bgcolor\": \"rgb(17,17,17)\", \"polar\": {\"angularaxis\": {\"gridcolor\": \"#506784\", \"linecolor\": \"#506784\", \"ticks\": \"\"}, \"bgcolor\": \"rgb(17,17,17)\", \"radialaxis\": {\"gridcolor\": \"#506784\", \"linecolor\": \"#506784\", \"ticks\": \"\"}}, \"scene\": {\"xaxis\": {\"backgroundcolor\": \"rgb(17,17,17)\", \"gridcolor\": \"#506784\", \"gridwidth\": 2, \"linecolor\": \"#506784\", \"showbackground\": true, \"ticks\": \"\", \"zerolinecolor\": \"#C8D4E3\"}, \"yaxis\": {\"backgroundcolor\": \"rgb(17,17,17)\", \"gridcolor\": \"#506784\", \"gridwidth\": 2, \"linecolor\": \"#506784\", \"showbackground\": true, \"ticks\": \"\", \"zerolinecolor\": \"#C8D4E3\"}, \"zaxis\": {\"backgroundcolor\": \"rgb(17,17,17)\", \"gridcolor\": \"#506784\", \"gridwidth\": 2, \"linecolor\": \"#506784\", \"showbackground\": true, \"ticks\": \"\", \"zerolinecolor\": \"#C8D4E3\"}}, \"shapedefaults\": {\"line\": {\"color\": \"#f2f5fa\"}}, \"sliderdefaults\": {\"bgcolor\": \"#C8D4E3\", \"bordercolor\": \"rgb(17,17,17)\", \"borderwidth\": 1, \"tickwidth\": 0}, \"ternary\": {\"aaxis\": {\"gridcolor\": \"#506784\", \"linecolor\": \"#506784\", \"ticks\": \"\"}, \"baxis\": {\"gridcolor\": \"#506784\", \"linecolor\": \"#506784\", \"ticks\": \"\"}, \"bgcolor\": \"rgb(17,17,17)\", \"caxis\": {\"gridcolor\": \"#506784\", \"linecolor\": \"#506784\", \"ticks\": \"\"}}, \"title\": {\"x\": 0.05}, \"updatemenudefaults\": {\"bgcolor\": \"#506784\", \"borderwidth\": 0}, \"xaxis\": {\"automargin\": true, \"gridcolor\": \"#283442\", \"linecolor\": \"#506784\", \"ticks\": \"\", \"title\": {\"standoff\": 15}, \"zerolinecolor\": \"#283442\", \"zerolinewidth\": 2}, \"yaxis\": {\"automargin\": true, \"gridcolor\": \"#283442\", \"linecolor\": \"#506784\", \"ticks\": \"\", \"title\": {\"standoff\": 15}, \"zerolinecolor\": \"#283442\", \"zerolinewidth\": 2}}}, \"width\": 800, \"xaxis\": {\"anchor\": \"y\", \"domain\": [0.0, 1.0], \"title\": {\"text\": \"T (K)\"}}, \"yaxis\": {\"anchor\": \"x\", \"domain\": [0.0, 1.0], \"title\": {\"text\": \"$Log_{10} P\\\\ (Pa)$a\"}}},\n",
              "                        {\"responsive\": true}\n",
              "                    ).then(function(){\n",
              "                            \n",
              "var gd = document.getElementById('0dc87524-d1e2-45ae-9604-cddbfe5b3ad1');\n",
              "var x = new MutationObserver(function (mutations, observer) {{\n",
              "        var display = window.getComputedStyle(gd).display;\n",
              "        if (!display || display === 'none') {{\n",
              "            console.log([gd, 'removed!']);\n",
              "            Plotly.purge(gd);\n",
              "            observer.disconnect();\n",
              "        }}\n",
              "}});\n",
              "\n",
              "// Listen for the removal of the full notebook cells\n",
              "var notebookContainer = gd.closest('#notebook-container');\n",
              "if (notebookContainer) {{\n",
              "    x.observe(notebookContainer, {childList: true});\n",
              "}}\n",
              "\n",
              "// Listen for the clearing of the current output cell\n",
              "var outputEl = gd.closest('.output');\n",
              "if (outputEl) {{\n",
              "    x.observe(outputEl, {childList: true});\n",
              "}}\n",
              "\n",
              "                        })\n",
              "                };\n",
              "                \n",
              "            </script>\n",
              "        </div>\n",
              "</body>\n",
              "</html>"
            ]
          },
          "metadata": {}
        }
      ]
    },
    {
      "cell_type": "code",
      "metadata": {
        "id": "g7JczzQ4j3s4"
      },
      "source": [
        "def model(a, b, c, T):\n",
        "  return a-b/(T+c)"
      ],
      "execution_count": 23,
      "outputs": []
    },
    {
      "cell_type": "code",
      "metadata": {
        "id": "rPsYU3gdlZ46"
      },
      "source": [
        "a_guess = 10.\n",
        "b_guess = 2000.0\n",
        "c_guess = 0.0\n",
        "x0 = [a_guess, b_guess, c_guess]\n",
        "\n",
        "def sqerror(x, T, log_Pv):\n",
        "  model_Pv = model(x[0],x[1],x[2], T)\n",
        "  err = jnp.sum( (model_Pv-log_Pv)**2)\n",
        "  return err\n",
        "\n",
        "res = minimize(sqerror, x0=x0, args=(T, log_Pv), tol=1e-10)\n",
        "#res = minimize(sqerror, x0=x0, args=(T, log_Pv), tol=1e-10, jac=jax.grad(sqerror))"
      ],
      "execution_count": 30,
      "outputs": []
    },
    {
      "cell_type": "code",
      "metadata": {
        "id": "lo9B-OHVrnGy",
        "colab": {
          "base_uri": "https://localhost:8080/"
        },
        "outputId": "1b456474-63b8-4ddf-8542-e96dc3beddfc"
      },
      "source": [
        "res"
      ],
      "execution_count": 28,
      "outputs": [
        {
          "output_type": "execute_result",
          "data": {
            "text/plain": [
              "      fun: 0.0005381098250991544\n",
              " hess_inv: array([[6.05908056e+00, 4.73256607e+03, 4.85712128e+02],\n",
              "       [4.73256607e+03, 3.74063396e+06, 3.87679374e+05],\n",
              "       [4.85712128e+02, 3.87679374e+05, 4.06142595e+04]])\n",
              "      jac: DeviceArray([-6.44817533e-12, -1.78376872e-14,  2.87241307e-13], dtype=float64)\n",
              "  message: 'Optimization terminated successfully.'\n",
              "     nfev: 48\n",
              "      nit: 42\n",
              "     njev: 48\n",
              "   status: 0\n",
              "  success: True\n",
              "        x: array([  10.20869185, 1756.35645945,  -36.02769483])"
            ]
          },
          "metadata": {},
          "execution_count": 28
        }
      ]
    },
    {
      "cell_type": "code",
      "metadata": {
        "id": "aazzanSf3jFG",
        "colab": {
          "base_uri": "https://localhost:8080/",
          "height": 537
        },
        "outputId": "f0291cfe-a0b9-4d2a-9d4f-08a69acd528b"
      },
      "source": [
        "T_model = jnp.linspace(T[0],T[-1],100)\n",
        "fig.add_scatter(x=T_model, y=model(*res.x, T_model), mode='lines', line_width=1, name='Antoine')\n",
        "fig.show()"
      ],
      "execution_count": 29,
      "outputs": [
        {
          "output_type": "display_data",
          "data": {
            "text/html": [
              "<html>\n",
              "<head><meta charset=\"utf-8\" /></head>\n",
              "<body>\n",
              "    <div>\n",
              "            <script src=\"https://cdnjs.cloudflare.com/ajax/libs/mathjax/2.7.5/MathJax.js?config=TeX-AMS-MML_SVG\"></script><script type=\"text/javascript\">if (window.MathJax) {MathJax.Hub.Config({SVG: {font: \"STIX-Web\"}});}</script>\n",
              "                <script type=\"text/javascript\">window.PlotlyConfig = {MathJaxConfig: 'local'};</script>\n",
              "        <script src=\"https://cdn.plot.ly/plotly-latest.min.js\"></script>    \n",
              "            <div id=\"300fae48-ae8b-48bd-9fa3-cba59a872d40\" class=\"plotly-graph-div\" style=\"height:500px; width:800px;\"></div>\n",
              "            <script type=\"text/javascript\">\n",
              "                \n",
              "                    window.PLOTLYENV=window.PLOTLYENV || {};\n",
              "                    \n",
              "                if (document.getElementById(\"300fae48-ae8b-48bd-9fa3-cba59a872d40\")) {\n",
              "                    Plotly.newPlot(\n",
              "                        '300fae48-ae8b-48bd-9fa3-cba59a872d40',\n",
              "                        [{\"marker\": {\"color\": \"rgba(0,0,0,0)\", \"line\": {\"color\": \"rgb(0,0,255)\", \"width\": 1}, \"size\": 8}, \"mode\": \"markers\", \"name\": \"Data\", \"type\": \"scatter\", \"x\": [293.15, 303.15, 313.15, 323.15, 333.15, 343.15, 412.75, 432.85, 451.25, 463.15, 473.35, 482.55, 492.65, 504.15, 507.77, 521.28, 535.18, 541.49, 552.6, 557.97, 561.69, 571.31, 645.95, 646.04, 646.07, 647.09], \"y\": [3.380211241711606, 3.63002085111341, 3.8652816849956104, 4.091033516054471, 4.299550878499019, 4.494488538273192, 5.552668216112194, 5.787460474518415, 5.982271233039568, 6.098643725817057, 6.193681029541281, 6.275311354541811, 6.361350024352267, 6.45484486000851, 6.483301952358167, 6.585911710319434, 6.6858312746260635, 6.729488769179562, 6.803866634284985, 6.838786144946595, 6.862608363964942, 6.922777341928798, 7.335939069031729, 7.338336946561072, 7.338536173355659, 7.32911300268182]}, {\"line\": {\"width\": 1}, \"mode\": \"lines\", \"name\": \"Antoine\", \"type\": \"scatter\", \"x\": [293.15, 296.7251515151515, 300.30030303030304, 303.87545454545455, 307.45060606060605, 311.02575757575755, 314.6009090909091, 318.1760606060606, 321.7512121212121, 325.32636363636357, 328.9015151515151, 332.47666666666663, 336.05181818181813, 339.6269696969697, 343.2021212121212, 346.7772727272727, 350.3524242424242, 353.92757575757577, 357.50272727272727, 361.0778787878788, 364.6530303030303, 368.22818181818184, 371.8033333333333, 375.37848484848485, 378.95363636363635, 382.52878787878785, 386.1039393939394, 389.67909090909086, 393.2542424242424, 396.829393939394, 400.4045454545454, 403.979696969697, 407.5548484848485, 411.13, 414.7051515151515, 418.280303030303, 421.85545454545456, 425.43060606060607, 429.00575757575757, 432.5809090909091, 436.1560606060606, 439.73121212121214, 443.30636363636364, 446.88151515151515, 450.4566666666667, 454.03181818181815, 457.6069696969697, 461.1821212121213, 464.7572727272727, 468.3324242424243, 471.9075757575758, 475.4827272727273, 479.05787878787885, 482.6330303030303, 486.2081818181818, 489.7833333333333, 493.35848484848486, 496.9336363636364, 500.5087878787879, 504.0839393939394, 507.6590909090909, 511.23424242424244, 514.809393939394, 518.3845454545454, 521.959696969697, 525.5348484848486, 529.11, 532.6851515151516, 536.260303030303, 539.8354545454546, 543.4106060606061, 546.9857575757576, 550.560909090909, 554.1360606060606, 557.7112121212122, 561.2863636363636, 564.8615151515152, 568.4366666666667, 572.0118181818182, 575.5869696969697, 579.1621212121212, 582.7372727272727, 586.3124242424242, 589.8875757575757, 593.4627272727273, 597.0378787878788, 600.6130303030303, 604.1881818181818, 607.7633333333333, 611.3384848484849, 614.9136363636363, 618.4887878787879, 622.0639393939394, 625.639090909091, 629.2142424242425, 632.7893939393939, 636.3645454545455, 639.939696969697, 643.5148484848486, 647.09], \"y\": [3.3778704431902344, 3.4715469107729753, 3.562688818151832, 3.6513976569297313, 3.7377695713687897, 3.821895705984497, 3.903862526374194, 3.983752115653922, 4.061642448640061, 4.137607645700961, 4.211718208015771, 4.284041235810044, 4.354640630988115, 4.423577285448412, 4.49090925624815, 4.5566919286764955, 4.620978168198894, 4.683818462148665, 4.745261051964014, 4.805352056698389, 4.86413558846873, 4.921653860448989, 4.9779472879645095, 5.033054583196092, 5.08701284396005, 5.139857636992163, 5.191623076128403, 5.242341895743567, 5.292045519780047, 5.340764126672577, 5.38852671045088, 5.4353611382801335, 5.48129420467921, 5.526351682638366, 5.570558371841257, 5.61393814418088, 5.656513986744965, 5.698308042433437, 5.73934164835876, 5.779635372169078, 5.819209046424061, 5.858081801144193, 5.896272094645716, 5.933797742765672, 5.9706759465742465, 6.006923318664988, 6.042555908107327, 6.0775892241401195, 6.112038258679726, 6.145917507711243, 6.179240991626999, 6.212022274572294, 6.24427448285443, 6.276010322467545, 6.307242095782403, 6.3379817174471675, 6.368240729542382, 6.398030316030604, 6.427361316538736, 6.456244239508704, 6.4846892747500195, 6.512706305425713, 6.540304919501255, 6.567494420684346, 6.594283838881774, 6.620681940198031, 6.646697236498965, 6.6723379945623655, 6.697612244836156, 6.722527789823684, 6.747092212114504, 6.77131288207801, 6.7951969652363235, 6.818751429331931, 6.841983051104691, 6.864898422792104, 6.887503958365896, 6.90980589951733, 6.931810321402984, 6.953523138162087, 6.974950108215961, 6.9960968393595255, 7.016968793654325, 7.037571292132062, 7.057909519317114, 7.077988527576144, 7.0978132413024415, 7.117388460942282, 7.136718866870231, 7.155809023119946, 7.1746633809767335, 7.193286282437805, 7.2116819635458675, 7.229854557601438, 7.24780809825899, 7.265546522511817, 7.283073673570232, 7.300393303637534, 7.31750907658796, 7.334424570550627]}, {\"line\": {\"width\": 1}, \"mode\": \"lines\", \"name\": \"Antoine\", \"type\": \"scatter\", \"x\": [293.15, 296.7251515151515, 300.30030303030304, 303.87545454545455, 307.45060606060605, 311.02575757575755, 314.6009090909091, 318.1760606060606, 321.7512121212121, 325.32636363636357, 328.9015151515151, 332.47666666666663, 336.05181818181813, 339.6269696969697, 343.2021212121212, 346.7772727272727, 350.3524242424242, 353.92757575757577, 357.50272727272727, 361.0778787878788, 364.6530303030303, 368.22818181818184, 371.8033333333333, 375.37848484848485, 378.95363636363635, 382.52878787878785, 386.1039393939394, 389.67909090909086, 393.2542424242424, 396.829393939394, 400.4045454545454, 403.979696969697, 407.5548484848485, 411.13, 414.7051515151515, 418.280303030303, 421.85545454545456, 425.43060606060607, 429.00575757575757, 432.5809090909091, 436.1560606060606, 439.73121212121214, 443.30636363636364, 446.88151515151515, 450.4566666666667, 454.03181818181815, 457.6069696969697, 461.1821212121213, 464.7572727272727, 468.3324242424243, 471.9075757575758, 475.4827272727273, 479.05787878787885, 482.6330303030303, 486.2081818181818, 489.7833333333333, 493.35848484848486, 496.9336363636364, 500.5087878787879, 504.0839393939394, 507.6590909090909, 511.23424242424244, 514.809393939394, 518.3845454545454, 521.959696969697, 525.5348484848486, 529.11, 532.6851515151516, 536.260303030303, 539.8354545454546, 543.4106060606061, 546.9857575757576, 550.560909090909, 554.1360606060606, 557.7112121212122, 561.2863636363636, 564.8615151515152, 568.4366666666667, 572.0118181818182, 575.5869696969697, 579.1621212121212, 582.7372727272727, 586.3124242424242, 589.8875757575757, 593.4627272727273, 597.0378787878788, 600.6130303030303, 604.1881818181818, 607.7633333333333, 611.3384848484849, 614.9136363636363, 618.4887878787879, 622.0639393939394, 625.639090909091, 629.2142424242425, 632.7893939393939, 636.3645454545455, 639.939696969697, 643.5148484848486, 647.09], \"y\": [3.3778707822237486, 3.47154726301918, 3.562689182139591, 3.6513980312908156, 3.737769954830169, 3.821896097361276, 3.90386292456314, 3.9837525196275205, 4.061642857441058, 4.13760805843734, 4.211718623856135, 4.28404165397936, 4.354641050763786, 4.423577706156659, 4.490909677260667, 4.556692349407357, 4.620978588101697, 4.683818880713884, 4.7452614687165475, 4.8053524711952855, 4.864136000297083, 4.921654269223977, 4.977947693327581, 5.033054984813273, 5.087013241520373, 5.139858030206207, 5.191623464726928, 5.242342279476247, 5.292045898414286, 5.340764499992406, 5.388527078255925, 5.435361500384657, 5.481294560911211, 5.52635203283874, 5.570558715863009, 5.613938481888393, 5.6565143180133095, 5.6983083671477255, 5.739341966413548, 5.779635683467793, 5.819209350878476, 5.858082098673928, 5.896272385177769, 5.9337980262339824, 5.970676222919282, 6.006923587833361, 6.042556170051426, 6.077589478817771, 6.112038506053873, 6.145917747749639, 6.179241224301928, 6.2120224998603, 6.2442747007360655, 6.276010532927133, 6.307242298807813, 6.337981913029603, 6.368240917676186, 6.398030496713068, 6.427361489769924, 6.456244405291285, 6.484689433089111, 6.512706456328731, 6.540305062977775, 6.567494556745972, 6.59428396754201, 6.6206820614721655, 6.646697350403957, 6.6723381011167415, 6.697612344059909, 6.72252788173818, 6.747092296742393, 6.77131295944314, 6.795197035363665, 6.818751492247495, 6.841983106835467, 6.864898471365985, 6.887503999811619, 6.909805933864413, 6.93181034868167, 6.953523158403293, 6.974950121451222, 6.996096845620951, 7.0169687929745495, 7.037571284544204, 7.057909504854736, 7.077988506273211, 7.097813213193287, 7.117388426061573, 7.136718825252933, 7.155808974801295, 7.174663325992206, 7.193286220823089, 7.211681895336837, 7.229854482834128, 7.247808016969575, 7.265546434736588, 7.283073579345571, 7.300393202999903, 7.317508969573875, 7.334424457196642]}],\n",
              "                        {\"height\": 500, \"template\": {\"data\": {\"bar\": [{\"error_x\": {\"color\": \"#f2f5fa\"}, \"error_y\": {\"color\": \"#f2f5fa\"}, \"marker\": {\"line\": {\"color\": \"rgb(17,17,17)\", \"width\": 0.5}}, \"type\": \"bar\"}], \"barpolar\": [{\"marker\": {\"line\": {\"color\": \"rgb(17,17,17)\", \"width\": 0.5}}, \"type\": \"barpolar\"}], \"carpet\": [{\"aaxis\": {\"endlinecolor\": \"#A2B1C6\", \"gridcolor\": \"#506784\", \"linecolor\": \"#506784\", \"minorgridcolor\": \"#506784\", \"startlinecolor\": \"#A2B1C6\"}, \"baxis\": {\"endlinecolor\": \"#A2B1C6\", \"gridcolor\": \"#506784\", \"linecolor\": \"#506784\", \"minorgridcolor\": \"#506784\", \"startlinecolor\": \"#A2B1C6\"}, \"type\": \"carpet\"}], \"choropleth\": [{\"colorbar\": {\"outlinewidth\": 0, \"ticks\": \"\"}, \"type\": \"choropleth\"}], \"contour\": [{\"colorbar\": {\"outlinewidth\": 0, \"ticks\": \"\"}, \"colorscale\": [[0.0, \"#0d0887\"], [0.1111111111111111, \"#46039f\"], [0.2222222222222222, \"#7201a8\"], [0.3333333333333333, \"#9c179e\"], [0.4444444444444444, \"#bd3786\"], [0.5555555555555556, \"#d8576b\"], [0.6666666666666666, \"#ed7953\"], [0.7777777777777778, \"#fb9f3a\"], [0.8888888888888888, \"#fdca26\"], [1.0, \"#f0f921\"]], \"type\": \"contour\"}], \"contourcarpet\": [{\"colorbar\": {\"outlinewidth\": 0, \"ticks\": \"\"}, \"type\": \"contourcarpet\"}], \"heatmap\": [{\"colorbar\": {\"outlinewidth\": 0, \"ticks\": \"\"}, \"colorscale\": [[0.0, \"#0d0887\"], [0.1111111111111111, \"#46039f\"], [0.2222222222222222, \"#7201a8\"], [0.3333333333333333, \"#9c179e\"], [0.4444444444444444, \"#bd3786\"], [0.5555555555555556, \"#d8576b\"], [0.6666666666666666, \"#ed7953\"], [0.7777777777777778, \"#fb9f3a\"], [0.8888888888888888, \"#fdca26\"], [1.0, \"#f0f921\"]], \"type\": \"heatmap\"}], \"heatmapgl\": [{\"colorbar\": {\"outlinewidth\": 0, \"ticks\": \"\"}, \"colorscale\": [[0.0, \"#0d0887\"], [0.1111111111111111, \"#46039f\"], [0.2222222222222222, \"#7201a8\"], [0.3333333333333333, \"#9c179e\"], [0.4444444444444444, \"#bd3786\"], [0.5555555555555556, \"#d8576b\"], [0.6666666666666666, \"#ed7953\"], [0.7777777777777778, \"#fb9f3a\"], [0.8888888888888888, \"#fdca26\"], [1.0, \"#f0f921\"]], \"type\": \"heatmapgl\"}], \"histogram\": [{\"marker\": {\"colorbar\": {\"outlinewidth\": 0, \"ticks\": \"\"}}, \"type\": \"histogram\"}], \"histogram2d\": [{\"colorbar\": {\"outlinewidth\": 0, \"ticks\": \"\"}, \"colorscale\": [[0.0, \"#0d0887\"], [0.1111111111111111, \"#46039f\"], [0.2222222222222222, \"#7201a8\"], [0.3333333333333333, \"#9c179e\"], [0.4444444444444444, \"#bd3786\"], [0.5555555555555556, \"#d8576b\"], [0.6666666666666666, \"#ed7953\"], [0.7777777777777778, \"#fb9f3a\"], [0.8888888888888888, \"#fdca26\"], [1.0, \"#f0f921\"]], \"type\": \"histogram2d\"}], \"histogram2dcontour\": [{\"colorbar\": {\"outlinewidth\": 0, \"ticks\": \"\"}, \"colorscale\": [[0.0, \"#0d0887\"], [0.1111111111111111, \"#46039f\"], [0.2222222222222222, \"#7201a8\"], [0.3333333333333333, \"#9c179e\"], [0.4444444444444444, \"#bd3786\"], [0.5555555555555556, \"#d8576b\"], [0.6666666666666666, \"#ed7953\"], [0.7777777777777778, \"#fb9f3a\"], [0.8888888888888888, \"#fdca26\"], [1.0, \"#f0f921\"]], \"type\": \"histogram2dcontour\"}], \"mesh3d\": [{\"colorbar\": {\"outlinewidth\": 0, \"ticks\": \"\"}, \"type\": \"mesh3d\"}], \"parcoords\": [{\"line\": {\"colorbar\": {\"outlinewidth\": 0, \"ticks\": \"\"}}, \"type\": \"parcoords\"}], \"pie\": [{\"automargin\": true, \"type\": \"pie\"}], \"scatter\": [{\"marker\": {\"line\": {\"color\": \"#283442\"}}, \"type\": \"scatter\"}], \"scatter3d\": [{\"line\": {\"colorbar\": {\"outlinewidth\": 0, \"ticks\": \"\"}}, \"marker\": {\"colorbar\": {\"outlinewidth\": 0, \"ticks\": \"\"}}, \"type\": \"scatter3d\"}], \"scattercarpet\": [{\"marker\": {\"colorbar\": {\"outlinewidth\": 0, \"ticks\": \"\"}}, \"type\": \"scattercarpet\"}], \"scattergeo\": [{\"marker\": {\"colorbar\": {\"outlinewidth\": 0, \"ticks\": \"\"}}, \"type\": \"scattergeo\"}], \"scattergl\": [{\"marker\": {\"line\": {\"color\": \"#283442\"}}, \"type\": \"scattergl\"}], \"scattermapbox\": [{\"marker\": {\"colorbar\": {\"outlinewidth\": 0, \"ticks\": \"\"}}, \"type\": \"scattermapbox\"}], \"scatterpolar\": [{\"marker\": {\"colorbar\": {\"outlinewidth\": 0, \"ticks\": \"\"}}, \"type\": \"scatterpolar\"}], \"scatterpolargl\": [{\"marker\": {\"colorbar\": {\"outlinewidth\": 0, \"ticks\": \"\"}}, \"type\": \"scatterpolargl\"}], \"scatterternary\": [{\"marker\": {\"colorbar\": {\"outlinewidth\": 0, \"ticks\": \"\"}}, \"type\": \"scatterternary\"}], \"surface\": [{\"colorbar\": {\"outlinewidth\": 0, \"ticks\": \"\"}, \"colorscale\": [[0.0, \"#0d0887\"], [0.1111111111111111, \"#46039f\"], [0.2222222222222222, \"#7201a8\"], [0.3333333333333333, \"#9c179e\"], [0.4444444444444444, \"#bd3786\"], [0.5555555555555556, \"#d8576b\"], [0.6666666666666666, \"#ed7953\"], [0.7777777777777778, \"#fb9f3a\"], [0.8888888888888888, \"#fdca26\"], [1.0, \"#f0f921\"]], \"type\": \"surface\"}], \"table\": [{\"cells\": {\"fill\": {\"color\": \"#506784\"}, \"line\": {\"color\": \"rgb(17,17,17)\"}}, \"header\": {\"fill\": {\"color\": \"#2a3f5f\"}, \"line\": {\"color\": \"rgb(17,17,17)\"}}, \"type\": \"table\"}]}, \"layout\": {\"annotationdefaults\": {\"arrowcolor\": \"#f2f5fa\", \"arrowhead\": 0, \"arrowwidth\": 1}, \"coloraxis\": {\"colorbar\": {\"outlinewidth\": 0, \"ticks\": \"\"}}, \"colorscale\": {\"diverging\": [[0, \"#8e0152\"], [0.1, \"#c51b7d\"], [0.2, \"#de77ae\"], [0.3, \"#f1b6da\"], [0.4, \"#fde0ef\"], [0.5, \"#f7f7f7\"], [0.6, \"#e6f5d0\"], [0.7, \"#b8e186\"], [0.8, \"#7fbc41\"], [0.9, \"#4d9221\"], [1, \"#276419\"]], \"sequential\": [[0.0, \"#0d0887\"], [0.1111111111111111, \"#46039f\"], [0.2222222222222222, \"#7201a8\"], [0.3333333333333333, \"#9c179e\"], [0.4444444444444444, \"#bd3786\"], [0.5555555555555556, \"#d8576b\"], [0.6666666666666666, \"#ed7953\"], [0.7777777777777778, \"#fb9f3a\"], [0.8888888888888888, \"#fdca26\"], [1.0, \"#f0f921\"]], \"sequentialminus\": [[0.0, \"#0d0887\"], [0.1111111111111111, \"#46039f\"], [0.2222222222222222, \"#7201a8\"], [0.3333333333333333, \"#9c179e\"], [0.4444444444444444, \"#bd3786\"], [0.5555555555555556, \"#d8576b\"], [0.6666666666666666, \"#ed7953\"], [0.7777777777777778, \"#fb9f3a\"], [0.8888888888888888, \"#fdca26\"], [1.0, \"#f0f921\"]]}, \"colorway\": [\"#636efa\", \"#EF553B\", \"#00cc96\", \"#ab63fa\", \"#FFA15A\", \"#19d3f3\", \"#FF6692\", \"#B6E880\", \"#FF97FF\", \"#FECB52\"], \"font\": {\"color\": \"#f2f5fa\"}, \"geo\": {\"bgcolor\": \"rgb(17,17,17)\", \"lakecolor\": \"rgb(17,17,17)\", \"landcolor\": \"rgb(17,17,17)\", \"showlakes\": true, \"showland\": true, \"subunitcolor\": \"#506784\"}, \"hoverlabel\": {\"align\": \"left\"}, \"hovermode\": \"closest\", \"mapbox\": {\"style\": \"dark\"}, \"paper_bgcolor\": \"rgb(17,17,17)\", \"plot_bgcolor\": \"rgb(17,17,17)\", \"polar\": {\"angularaxis\": {\"gridcolor\": \"#506784\", \"linecolor\": \"#506784\", \"ticks\": \"\"}, \"bgcolor\": \"rgb(17,17,17)\", \"radialaxis\": {\"gridcolor\": \"#506784\", \"linecolor\": \"#506784\", \"ticks\": \"\"}}, \"scene\": {\"xaxis\": {\"backgroundcolor\": \"rgb(17,17,17)\", \"gridcolor\": \"#506784\", \"gridwidth\": 2, \"linecolor\": \"#506784\", \"showbackground\": true, \"ticks\": \"\", \"zerolinecolor\": \"#C8D4E3\"}, \"yaxis\": {\"backgroundcolor\": \"rgb(17,17,17)\", \"gridcolor\": \"#506784\", \"gridwidth\": 2, \"linecolor\": \"#506784\", \"showbackground\": true, \"ticks\": \"\", \"zerolinecolor\": \"#C8D4E3\"}, \"zaxis\": {\"backgroundcolor\": \"rgb(17,17,17)\", \"gridcolor\": \"#506784\", \"gridwidth\": 2, \"linecolor\": \"#506784\", \"showbackground\": true, \"ticks\": \"\", \"zerolinecolor\": \"#C8D4E3\"}}, \"shapedefaults\": {\"line\": {\"color\": \"#f2f5fa\"}}, \"sliderdefaults\": {\"bgcolor\": \"#C8D4E3\", \"bordercolor\": \"rgb(17,17,17)\", \"borderwidth\": 1, \"tickwidth\": 0}, \"ternary\": {\"aaxis\": {\"gridcolor\": \"#506784\", \"linecolor\": \"#506784\", \"ticks\": \"\"}, \"baxis\": {\"gridcolor\": \"#506784\", \"linecolor\": \"#506784\", \"ticks\": \"\"}, \"bgcolor\": \"rgb(17,17,17)\", \"caxis\": {\"gridcolor\": \"#506784\", \"linecolor\": \"#506784\", \"ticks\": \"\"}}, \"title\": {\"x\": 0.05}, \"updatemenudefaults\": {\"bgcolor\": \"#506784\", \"borderwidth\": 0}, \"xaxis\": {\"automargin\": true, \"gridcolor\": \"#283442\", \"linecolor\": \"#506784\", \"ticks\": \"\", \"title\": {\"standoff\": 15}, \"zerolinecolor\": \"#283442\", \"zerolinewidth\": 2}, \"yaxis\": {\"automargin\": true, \"gridcolor\": \"#283442\", \"linecolor\": \"#506784\", \"ticks\": \"\", \"title\": {\"standoff\": 15}, \"zerolinecolor\": \"#283442\", \"zerolinewidth\": 2}}}, \"width\": 800, \"xaxis\": {\"anchor\": \"y\", \"domain\": [0.0, 1.0], \"title\": {\"text\": \"T (K)\"}}, \"yaxis\": {\"anchor\": \"x\", \"domain\": [0.0, 1.0], \"title\": {\"text\": \"$Log_{10} P\\\\ (Pa)$a\"}}},\n",
              "                        {\"responsive\": true}\n",
              "                    ).then(function(){\n",
              "                            \n",
              "var gd = document.getElementById('300fae48-ae8b-48bd-9fa3-cba59a872d40');\n",
              "var x = new MutationObserver(function (mutations, observer) {{\n",
              "        var display = window.getComputedStyle(gd).display;\n",
              "        if (!display || display === 'none') {{\n",
              "            console.log([gd, 'removed!']);\n",
              "            Plotly.purge(gd);\n",
              "            observer.disconnect();\n",
              "        }}\n",
              "}});\n",
              "\n",
              "// Listen for the removal of the full notebook cells\n",
              "var notebookContainer = gd.closest('#notebook-container');\n",
              "if (notebookContainer) {{\n",
              "    x.observe(notebookContainer, {childList: true});\n",
              "}}\n",
              "\n",
              "// Listen for the clearing of the current output cell\n",
              "var outputEl = gd.closest('.output');\n",
              "if (outputEl) {{\n",
              "    x.observe(outputEl, {childList: true});\n",
              "}}\n",
              "\n",
              "                        })\n",
              "                };\n",
              "                \n",
              "            </script>\n",
              "        </div>\n",
              "</body>\n",
              "</html>"
            ]
          },
          "metadata": {}
        }
      ]
    },
    {
      "cell_type": "code",
      "metadata": {
        "id": "dxBMFeRk3oeb"
      },
      "source": [
        ""
      ],
      "execution_count": null,
      "outputs": []
    }
  ]
}