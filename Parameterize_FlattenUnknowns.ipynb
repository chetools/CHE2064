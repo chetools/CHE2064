{
  "nbformat": 4,
  "nbformat_minor": 0,
  "metadata": {
    "colab": {
      "name": "Parameterize_FlattenUnknowns.ipynb",
      "provenance": [],
      "authorship_tag": "ABX9TyN/Nrg5ehY0WQ4KKM5VGg6z",
      "include_colab_link": true
    },
    "kernelspec": {
      "name": "python3",
      "display_name": "Python 3"
    },
    "language_info": {
      "name": "python"
    }
  },
  "cells": [
    {
      "cell_type": "markdown",
      "metadata": {
        "id": "view-in-github",
        "colab_type": "text"
      },
      "source": [
        "<a href=\"https://colab.research.google.com/github/profteachkids/CHE2064/blob/master/Parameterize_FlattenUnknowns.ipynb\" target=\"_parent\"><img src=\"https://colab.research.google.com/assets/colab-badge.svg\" alt=\"Open In Colab\"/></a>"
      ]
    },
    {
      "cell_type": "code",
      "execution_count": 9,
      "metadata": {
        "id": "BIZQ7SetlG7a"
      },
      "outputs": [],
      "source": [
        "import numpy as np\n",
        "import jax.numpy as jnp\n",
        "import jax"
      ]
    },
    {
      "cell_type": "code",
      "source": [
        "def parameterize(f, **kw):\n",
        "\n",
        "    params={}\n",
        "    vars=[]\n",
        "    for k,v in kw.items():\n",
        "        if v is None:\n",
        "            vars.append(k)\n",
        "        else:\n",
        "            params[k]=v\n",
        "\n",
        "    def f_parameterized(v):\n",
        "        var_dict = {k:v for k,v in zip(vars,v)}\n",
        "        params.update(var_dict)\n",
        "        return eqs(**params)\n",
        "\n",
        "\n",
        "    return f_parameterized"
      ],
      "metadata": {
        "id": "za-rhwnmlIVU"
      },
      "execution_count": 2,
      "outputs": []
    },
    {
      "cell_type": "code",
      "source": [
        "def concat(list_of_vec):\n",
        "    return np.concatenate([np.ravel(vec) for vec in list_of_vec])"
      ],
      "metadata": {
        "id": "m52iEskCCvJ3"
      },
      "execution_count": 3,
      "outputs": []
    },
    {
      "cell_type": "code",
      "source": [
        "class Unk():\n",
        "\n",
        "    def __init__(self,x):\n",
        "        if type(x) is np.ndarray:\n",
        "            self.shape=x.shape\n",
        "            self.size = x.size\n",
        "        else:\n",
        "            self.shape=tuple()\n",
        "            self.size=1"
      ],
      "metadata": {
        "id": "wI6Ets4hcRAv"
      },
      "execution_count": 4,
      "outputs": []
    },
    {
      "cell_type": "code",
      "source": [
        "def parameterize2(f, **kw):\n",
        "\n",
        "    params={}\n",
        "    vars=[]\n",
        "    shapes=[]\n",
        "    sizes=[]\n",
        "    for k,v in kw.items():\n",
        "        if isinstance(v,Unk):\n",
        "            vars.append(k)\n",
        "            shapes.append(v.shape)\n",
        "            sizes.append(v.size)\n",
        "        else:\n",
        "            params[k]=v\n",
        "    indices=np.cumsum(sizes)\n",
        "\n",
        "    def create_var_dict(v):\n",
        "        return {k:v.reshape(shape) for k,shape,v in zip(vars,shapes,np.split(v,indices))}\n",
        "\n",
        "    def f_parameterized(v):\n",
        "        var_dict = create_var_dict(v)\n",
        "        params.update(var_dict)\n",
        "        return eqs(**params)\n",
        "\n",
        "\n",
        "    return f_parameterized, create_var_dict, params"
      ],
      "metadata": {
        "id": "dQhsuP7O-XEB"
      },
      "execution_count": 5,
      "outputs": []
    },
    {
      "cell_type": "code",
      "source": [
        "def eqs(vtot, mtot, x1, x2, P):\n",
        "    return (x1+3*x2)+2*P\n",
        "\n",
        "x1guess = np.array([0.1,0.9])\n",
        "x2guess = np.array([0.3,0.7])\n",
        "Pguess = 1e5\n",
        "\n",
        "v=concat([x1guess, x2guess, Pguess])\n",
        "f, create_var_dict, params = parameterize2(eqs, x1=Unk(x1guess), x2=Unk(x2guess), P=Unk(Pguess), vtot=10., mtot=2.)"
      ],
      "metadata": {
        "id": "VwL5VO8IlbUD"
      },
      "execution_count": 36,
      "outputs": []
    },
    {
      "cell_type": "code",
      "source": [
        "create_var_dict(v)"
      ],
      "metadata": {
        "colab": {
          "base_uri": "https://localhost:8080/"
        },
        "id": "-HRe9LNeb4bp",
        "outputId": "91c62cf5-3c47-490c-b31b-0032c3b6b3c5"
      },
      "execution_count": 37,
      "outputs": [
        {
          "output_type": "execute_result",
          "data": {
            "text/plain": [
              "{'P': array(100000.), 'x1': array([0.1, 0.9]), 'x2': array([0.3, 0.7])}"
            ]
          },
          "metadata": {},
          "execution_count": 37
        }
      ]
    },
    {
      "cell_type": "code",
      "source": [
        "jax_f=jax.jit(f)"
      ],
      "metadata": {
        "id": "q14LyZeYldCS"
      },
      "execution_count": 38,
      "outputs": []
    },
    {
      "cell_type": "code",
      "source": [
        "jax_f(v)"
      ],
      "metadata": {
        "colab": {
          "base_uri": "https://localhost:8080/"
        },
        "id": "unsUjB1QZt6d",
        "outputId": "aa571624-3110-484b-d2c4-baac4f6cc87c"
      },
      "execution_count": 39,
      "outputs": [
        {
          "output_type": "execute_result",
          "data": {
            "text/plain": [
              "DeviceArray([200001., 200003.], dtype=float32)"
            ]
          },
          "metadata": {},
          "execution_count": 39
        }
      ]
    },
    {
      "cell_type": "code",
      "source": [
        "jax.jacobian(f)(v)"
      ],
      "metadata": {
        "id": "9-lqQQ6Fb3vk",
        "colab": {
          "base_uri": "https://localhost:8080/"
        },
        "outputId": "34e19d58-623a-4df2-ed16-baaab6368405"
      },
      "execution_count": 40,
      "outputs": [
        {
          "output_type": "execute_result",
          "data": {
            "text/plain": [
              "DeviceArray([[1., 0., 3., 0., 2.],\n",
              "             [0., 1., 0., 3., 2.]], dtype=float32)"
            ]
          },
          "metadata": {},
          "execution_count": 40
        }
      ]
    },
    {
      "cell_type": "code",
      "source": [
        ""
      ],
      "metadata": {
        "id": "NbtArIBPYqr3"
      },
      "execution_count": null,
      "outputs": []
    }
  ]
}