{
  "nbformat": 4,
  "nbformat_minor": 0,
  "metadata": {
    "colab": {
      "name": "Broyden_inclass.ipynb",
      "provenance": [],
      "collapsed_sections": [],
      "authorship_tag": "ABX9TyOyBNUlGUgRQXX6EOtdzklG",
      "include_colab_link": true
    },
    "kernelspec": {
      "name": "python3",
      "display_name": "Python 3"
    }
  },
  "cells": [
    {
      "cell_type": "markdown",
      "metadata": {
        "id": "view-in-github",
        "colab_type": "text"
      },
      "source": [
        "<a href=\"https://colab.research.google.com/github/profteachkids/CHE2064/blob/master/Broyden_inclass.ipynb\" target=\"_parent\"><img src=\"https://colab.research.google.com/assets/colab-badge.svg\" alt=\"Open In Colab\"/></a>"
      ]
    },
    {
      "cell_type": "code",
      "metadata": {
        "id": "HcD9HS7wIBx3"
      },
      "source": [
        "import jax\n",
        "import jax.numpy as jnp\n",
        "from jax.config import config\n",
        "config.update(\"jax_enable_x64\", True)\n",
        "eps=1e-12"
      ],
      "execution_count": 3,
      "outputs": []
    },
    {
      "cell_type": "code",
      "metadata": {
        "id": "Jxxs0w1uIEuo"
      },
      "source": [
        "def func(x):\n",
        "    return jnp.array([jnp.sin(x[0])  + 0.5 * (x[0] - x[1])**3 - 1.0,\n",
        "            0.5 * (x[1] - x[0])**3 + x[1]])"
      ],
      "execution_count": 4,
      "outputs": []
    },
    {
      "cell_type": "code",
      "metadata": {
        "id": "nrbhifr7IUPG",
        "colab": {
          "base_uri": "https://localhost:8080/"
        },
        "outputId": "ec52aa61-c557-4710-ec01-211afb55aef7"
      },
      "source": [
        "# Broyden update with no Sherman-Morrison\n",
        "x = jnp.zeros(2)\n",
        "J = jax.jacobian(func)(x)\n",
        "\n",
        "f = func(x)\n",
        "\n",
        "for i in range(20):\n",
        "  xp = jnp.linalg.solve(J, -f) + x\n",
        "  dx = xp - x\n",
        "  fp = func(xp)\n",
        "  f= fp\n",
        "  x= xp\n",
        "  print(x,fp)\n",
        "  if jnp.linalg.norm(fp) < 1e-12:\n",
        "    break\n",
        "\n",
        "  J = J + jnp.outer(fp,dx)/jnp.linalg.norm(dx)**2"
      ],
      "execution_count": 5,
      "outputs": [
        {
          "output_type": "stream",
          "name": "stderr",
          "text": [
            "WARNING:absl:No GPU/TPU found, falling back to CPU. (Set TF_CPP_MIN_LOG_LEVEL=0 and rerun for more info.)\n"
          ]
        },
        {
          "output_type": "stream",
          "name": "stdout",
          "text": [
            "[1. 0.] [ 0.34147098 -0.5       ]\n",
            "[0.74545034 0.37272517] [-0.29580697  0.34683492]\n",
            "[0.87452582 0.23424262] [-0.10151446  0.10299655]\n",
            "[0.94426608 0.18266999] [ 0.03094058 -0.03820376]\n",
            "[0.92886637 0.19874589] [-0.00445347  0.00414106]\n",
            "[0.931058   0.19761267] [-0.00047246  0.00033713]\n",
            "[0.93134054 0.1975642 ] [-3.66025399e-05  2.14376618e-05]\n",
            "[0.93136529 0.19756394] [-1.63573041e-06  9.88074612e-07]\n",
            "[0.93136644 0.19756391] [ 9.80559234e-09 -5.98158895e-09]\n",
            "[0.93136643 0.19756391] [-1.81729076e-11  1.10534082e-11]\n",
            "[0.93136643 0.19756391] [-1.01030295e-14  6.16173779e-15]\n"
          ]
        }
      ]
    },
    {
      "cell_type": "code",
      "metadata": {
        "id": "KFpoN_J8Ig-n",
        "colab": {
          "base_uri": "https://localhost:8080/"
        },
        "outputId": "005a12f7-d54d-4802-88ff-ffc139715a00"
      },
      "source": [
        "def broyden(func, x, J=None, tol=1e-10, max_iter=100, verbose=0):\n",
        "  J = jax.jacobian(func)(x) if J is None else J(x)\n",
        "  Jinv = jnp.linalg.inv(J)\n",
        "  f = func(x)\n",
        "\n",
        "  for i in range(max_iter):\n",
        "    xp = x - Jinv @ f\n",
        "    dx = xp - x\n",
        "    fp = func(xp)\n",
        "    f= fp\n",
        "    x= xp\n",
        "    if verbose>0:\n",
        "      print(x, f)\n",
        "    if jnp.all(fp<tol):\n",
        "      break\n",
        "\n",
        "    u = fp.reshape(-1,1)\n",
        "    v = dx.reshape(-1,1)/jnp.linalg.norm(dx)**2\n",
        "    Jinv = Jinv - Jinv @ u @ v.T @ Jinv / (1 + v.T @ Jinv @ u)  #Sherman-Morrison\n",
        "  return x, f\n",
        "\n",
        "broyden(func, jnp.zeros(2))"
      ],
      "execution_count": 66,
      "outputs": [
        {
          "output_type": "execute_result",
          "data": {
            "text/plain": [
              "(DeviceArray([0.93136643, 0.19756391], dtype=float64),\n",
              " DeviceArray([-1.81729076e-11,  1.10534082e-11], dtype=float64))"
            ]
          },
          "metadata": {},
          "execution_count": 66
        }
      ]
    },
    {
      "cell_type": "code",
      "metadata": {
        "id": "1VODH9UX1Rkr"
      },
      "source": [
        "# Accomodate box bounds on variables\n",
        "\n",
        "def broyden2(func, x, J=None, tol=1e-10, max_iter=100, verbose=0, xmax=jnp.inf, xmin=-jnp.inf):\n",
        "  J = jax.jacobian(func) if J is None else J(x)\n",
        "  Jinv = jnp.linalg.inv(J(x))\n",
        "  f = func(x)\n",
        "\n",
        "  for i in range(max_iter):\n",
        "    dx = - Jinv @ f\n",
        "    print(f'dx {dx}')\n",
        "    alpha = jnp.min(jnp.concatenate([jnp.abs((xmax-x)/dx), jnp.abs((xmin-x)/dx), jnp.array([1.])]))\n",
        "    dx =alpha*dx\n",
        "    f= fp\n",
        "    x= xp\n",
        "    if verbose>0:\n",
        "      print(i, x, f)\n",
        "      print()\n",
        "    if jnp.all(fp<tol):\n",
        "      break\n",
        "\n",
        "    u = fp.reshape(-1,1)\n",
        "    v = dx.reshape(-1,1)/jnp.linalg.norm(dx)**2\n",
        "    Jinv = Jinv - Jinv @ u @ v.T @ Jinv / (1 + v.T @ Jinv @ u)  #Sherman-Morrison\n",
        "  return x, f"
      ],
      "execution_count": 80,
      "outputs": []
    },
    {
      "cell_type": "code",
      "metadata": {
        "id": "MIcH8XjKuXaX"
      },
      "source": [
        "def func2(x):\n",
        "    return jnp.array([ jnp.sin(x[0])+ 0.5 * (x[0] - x[1])**3 - 0.01*jnp.sqrt(x[1]-0.1) - 1.0,\n",
        "            0.5 * (x[1] - x[0])**3 + x[1] + 0.001*jnp.sqrt(1.-x[0])])"
      ],
      "execution_count": 81,
      "outputs": []
    },
    {
      "cell_type": "code",
      "metadata": {
        "colab": {
          "base_uri": "https://localhost:8080/"
        },
        "id": "cql6ovsbPgKY",
        "outputId": "37226ce7-f6d4-48d2-81dc-fbdfe1cb0827"
      },
      "source": [
        "xguess = jnp.array([0.93136643, 0.19756391])\n",
        "func2(xguess)"
      ],
      "execution_count": 82,
      "outputs": [
        {
          "output_type": "execute_result",
          "data": {
            "text/plain": [
              "DeviceArray([-0.00312353,  0.00026199], dtype=float64)"
            ]
          },
          "metadata": {},
          "execution_count": 82
        }
      ]
    },
    {
      "cell_type": "code",
      "metadata": {
        "id": "O1oONzVI0M1S",
        "colab": {
          "base_uri": "https://localhost:8080/"
        },
        "outputId": "feb24ff0-ce25-4f27-a01f-0006ba0eaafb"
      },
      "source": [
        "broyden2(func2, xguess, tol=1e-10, verbose=1, max_iter=5, xmin=jnp.array([-jnp.inf, 0.1]), xmax = jnp.array([1., jnp.inf]))"
      ],
      "execution_count": 83,
      "outputs": [
        {
          "output_type": "stream",
          "name": "stdout",
          "text": [
            "dx [0.00290108 0.00115437]\n",
            "0 [0.93136643 0.19756391] [-1.01030295e-14  6.16173779e-15]\n",
            "\n"
          ]
        },
        {
          "output_type": "execute_result",
          "data": {
            "text/plain": [
              "(DeviceArray([0.93136643, 0.19756391], dtype=float64),\n",
              " DeviceArray([-1.01030295e-14,  6.16173779e-15], dtype=float64))"
            ]
          },
          "metadata": {},
          "execution_count": 83
        }
      ]
    },
    {
      "cell_type": "code",
      "metadata": {
        "id": "QEBSGQ5d0tr-"
      },
      "source": [
        ""
      ],
      "execution_count": 10,
      "outputs": []
    }
  ]
}
